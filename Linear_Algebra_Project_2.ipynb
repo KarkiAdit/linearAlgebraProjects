{
  "nbformat": 4,
  "nbformat_minor": 0,
  "metadata": {
    "colab": {
      "provenance": []
    },
    "kernelspec": {
      "name": "python3",
      "display_name": "Python 3"
    },
    "language_info": {
      "name": "python"
    }
  },
  "cells": [
    {
      "cell_type": "markdown",
      "source": [
        "<h1>AUTHOR: ADITYA KARKI</h1>\n",
        "<h3>DATE: March 1, 2023</h3>"
      ],
      "metadata": {
        "id": "Y8xotlM_pqoE"
      }
    },
    {
      "cell_type": "code",
      "source": [
        "# importing required libraries\n",
        "import sympy as smp\n",
        "from sympy import *\n",
        "import numpy as np\n",
        "import copy"
      ],
      "metadata": {
        "id": "Wuvhsgx8qikp"
      },
      "execution_count": 101,
      "outputs": []
    },
    {
      "cell_type": "markdown",
      "source": [
        "**Question 1: The actual color a viewer sees on a screen is influenced by the specific type and amount of phosphors on the screen. So each computer screen manufacturer must convert between the (R, G, B) data and an international CIE (Commission on Illumination) standard for color, which uses three primary colors, called X, Y, and Z. A typical conversion for short-persistence \n",
        "phosphors is**\n",
        "\n",
        "$\\begin{bmatrix}.61 & .29  & .150 \\\\.35 & .59 & .063 \\\\ .04 & .12 & .787 \\end{bmatrix}$ $\\begin{bmatrix}R \\\\ G \\\\ B \\end{bmatrix}$ = $\\begin{bmatrix}X \\\\ Y \\\\ Z \\end{bmatrix}$\n",
        "\n",
        "A computer program will send a stream of color information to the screen, using standard CIE data(X, Y, Z). Find the equation that converts these data to the (R, G, B) data needed for the screen’s electron gun.\n",
        "\n",
        "\n"
      ],
      "metadata": {
        "id": "4y-3250fqM4S"
      }
    },
    {
      "cell_type": "markdown",
      "source": [
        "Let A = $\\begin{bmatrix}.61 & .29  & .150 \\\\.35 & .59 & .063 \\\\ .04 & .12 & .787 \\end{bmatrix}$, x = $\\begin{bmatrix}R \\\\ G \\\\ B \\end{bmatrix}$, and b = $\\begin{bmatrix}X \\\\ Y \\\\ Z \\end{bmatrix}$. \n",
        "\n",
        "<br>\n",
        "\n",
        "To find the value of X, Y, Z in terms of R, G, B respectively, we can form an augmented matrix D = $\\begin{bmatrix}A & b\\end{bmatrix}$ and convert it to reduced echolean form and equate it with x, because $\\begin{bmatrix}A & b\\end{bmatrix}$ = x."
      ],
      "metadata": {
        "id": "M2Qjy4kB1XGT"
      }
    },
    {
      "cell_type": "code",
      "source": [
        "# Constructing matrix A \n",
        "A = smp.Matrix([[.61, .29, .150],  [.35, .59, .063],  [.04, .12, .787]]) \n",
        "# Creating all the variables\n",
        "R, G, B, X, Y, Z = smp.symbols('R G B X Y Z')\n",
        "# Constructing matrix x\n",
        "x = smp.Matrix([[R], [G], [B]])\n",
        "# Constructing matrix b\n",
        "b = smp.Matrix([[X], [Y], [Z]])"
      ],
      "metadata": {
        "id": "oce3Hb_fq0NC"
      },
      "execution_count": 112,
      "outputs": []
    },
    {
      "cell_type": "markdown",
      "source": [
        "Augmenting A and b to form D."
      ],
      "metadata": {
        "id": "_lYJZTEass2x"
      }
    },
    {
      "cell_type": "code",
      "source": [
        "D = smp.Matrix(np.hstack((A, b)))\n",
        "print(D)"
      ],
      "metadata": {
        "colab": {
          "base_uri": "https://localhost:8080/"
        },
        "id": "-ZnGrVuqtnew",
        "outputId": "e1c56acf-3660-4a95-f445-1776580f8259"
      },
      "execution_count": 113,
      "outputs": [
        {
          "output_type": "stream",
          "name": "stdout",
          "text": [
            "Matrix([[0.610000000000000, 0.290000000000000, 0.150000000000000, X], [0.350000000000000, 0.590000000000000, 0.0630000000000000, Y], [0.0400000000000000, 0.120000000000000, 0.787000000000000, Z]])\n"
          ]
        }
      ]
    },
    {
      "cell_type": "markdown",
      "source": [
        "Converting Matrix D to reduced-row echolean form."
      ],
      "metadata": {
        "id": "7G5iwotNZvNC"
      }
    },
    {
      "cell_type": "code",
      "source": [
        "D_rref = D.rref()\n",
        "print(D_rref)"
      ],
      "metadata": {
        "colab": {
          "base_uri": "https://localhost:8080/"
        },
        "id": "59KfhTtwZtx3",
        "outputId": "cf652763-5c03-4775-d373-1c0e3c5b862f"
      },
      "execution_count": 114,
      "outputs": [
        {
          "output_type": "stream",
          "name": "stdout",
          "text": [
            "(Matrix([\n",
            "[1, 0, 0,   2.25855419303797*X - 1.03950751582278*Y - 0.347260680379747*Z],\n",
            "[0, 1, 0,  -1.3495352056962*X + 2.34409612341772*Y + 0.0695708069620253*Z],\n",
            "[0, 0, 1, 0.0909810126582278*X - 0.304588607594937*Y + 1.27768987341772*Z]]), (0, 1, 2))\n"
          ]
        }
      ]
    },
    {
      "cell_type": "markdown",
      "source": [
        "From the row reduced form of D we can see that it has pivot in all three positions, which means the system has a solution.\n",
        "\n",
        "<br>\n",
        "\n",
        "**Now, we simply equate the fourth column of row reduced form of D (D_rref) with x to establish the relations of each colors with X, Y, and Z.**"
      ],
      "metadata": {
        "id": "9AMFc22Mdfkk"
      }
    },
    {
      "cell_type": "code",
      "source": [
        "# obtaining last column of D_rref\n",
        "E = D_rref[0].col(-1)\n",
        "print(E)\n",
        "# compute the relations between X, Y, Z with R\n",
        "R = R.subs(R, E.row(0).col(0))\n",
        "# compute the relations between X, Y, Z with G\n",
        "G = G.subs(G, E.row(1).col(0))\n",
        "# compute the relations between X, Y, Z with B\n",
        "B = B.subs(B, E.row(2).col(0))\n",
        "# display the relations\n",
        "print(\"R = \", R)\n",
        "print(\"G = \", G)\n",
        "print(\"B = \", B)"
      ],
      "metadata": {
        "colab": {
          "base_uri": "https://localhost:8080/"
        },
        "id": "1NEACeO9eb-T",
        "outputId": "bcb62b61-1579-4d45-9ab5-7819c7d4a151"
      },
      "execution_count": 115,
      "outputs": [
        {
          "output_type": "stream",
          "name": "stdout",
          "text": [
            "Matrix([[2.25855419303797*X - 1.03950751582278*Y - 0.347260680379747*Z], [-1.3495352056962*X + 2.34409612341772*Y + 0.0695708069620253*Z], [0.0909810126582278*X - 0.304588607594937*Y + 1.27768987341772*Z]])\n",
            "R =  Matrix([[2.25855419303797*X - 1.03950751582278*Y - 0.347260680379747*Z]])\n",
            "G =  Matrix([[-1.3495352056962*X + 2.34409612341772*Y + 0.0695708069620253*Z]])\n",
            "B =  Matrix([[0.0909810126582278*X - 0.304588607594937*Y + 1.27768987341772*Z]])\n"
          ]
        }
      ]
    },
    {
      "cell_type": "markdown",
      "source": [
        "**Question 2: Let H = Span {v1, v2, v3} and B = { v1, v2, v3}. Show that B is a basis for H and x is in H, and find the B-coordinates of x, when**\n",
        "v<sub>1</sub> = $\\begin{bmatrix}-6 \\\\ 4 \\\\ -9 \\\\ 4 \\end{bmatrix}$, v<sub>2</sub> = $\\begin{bmatrix}8 \\\\ -3 \\\\ 7 \\\\ -3 \\end{bmatrix}$, v<sub>3</sub> = $\\begin{bmatrix}-9 \\\\ 5 \\\\ -8 \\\\ 3 \\end{bmatrix}$, and x = $\\begin{bmatrix}4 \\\\ 7 \\\\ -8 \\\\ 3 \\end{bmatrix}$  "
      ],
      "metadata": {
        "id": "8mNg1VpmuKWw"
      }
    },
    {
      "cell_type": "markdown",
      "source": [
        "For B to be a basis for H, the vectors v<sub>1</sub>, v<sub>2</sub>, and v<sub>3</sub> must not be redundant. In other words, none of the vectors should be able to be written as linear combinations of each other (linearly independent).\n",
        "\n",
        "**Therefore, we can check if B is a basis of H by looking if a homogenous system $\\begin{bmatrix}B & 0\\end{bmatrix}$ is linearly independent.**"
      ],
      "metadata": {
        "id": "PEh_jtKt0swy"
      }
    },
    {
      "cell_type": "code",
      "source": [
        "# constructing v1\n",
        "v1 = smp.Matrix([[-6], [4], [-9], [4]])\n",
        "# constructing v2\n",
        "v2 = smp.Matrix([[8], [-3], [7], [-3]])\n",
        "# constructing v3\n",
        "v3 = smp.Matrix([[-9], [5], [-8], [3]])\n",
        "# constructing x\n",
        "x = smp.Matrix([[4], [7], [-8], [3]])"
      ],
      "metadata": {
        "id": "2iA8QleJvtJb"
      },
      "execution_count": 116,
      "outputs": []
    },
    {
      "cell_type": "markdown",
      "source": [
        "Initializing a Zero column matrix and forming a $\\begin{bmatrix}B & 0\\end{bmatrix}$ homogeneous matrix."
      ],
      "metadata": {
        "id": "_ogM6_Fd4eXl"
      }
    },
    {
      "cell_type": "code",
      "source": [
        "# 4*1 zero matrix\n",
        "O = [[0]] * 4\n",
        "# homogeneous matrix [B 0]\n",
        "M = smp.Matrix(np.hstack((v1, v2, v3, O)))\n",
        "print(\"The homogeneous matrix: \", M)"
      ],
      "metadata": {
        "id": "HoXhMGNb4uQG",
        "colab": {
          "base_uri": "https://localhost:8080/"
        },
        "outputId": "d3355b95-b7fc-411c-d03d-b4049f40096d"
      },
      "execution_count": 117,
      "outputs": [
        {
          "output_type": "stream",
          "name": "stdout",
          "text": [
            "The homogeneous matrix:  Matrix([[-6, 8, -9, 0], [4, -3, 5, 0], [-9, 7, -8, 0], [4, -3, 3, 0]])\n"
          ]
        }
      ]
    },
    {
      "cell_type": "markdown",
      "source": [
        "Row reduce the homogeneous system"
      ],
      "metadata": {
        "id": "QuCF0Tef5DE3"
      }
    },
    {
      "cell_type": "code",
      "source": [
        "M_rref = M.rref()\n",
        "print(M_rref)"
      ],
      "metadata": {
        "id": "yQMtCM555Qk7",
        "colab": {
          "base_uri": "https://localhost:8080/"
        },
        "outputId": "f523a265-5241-4d2f-faa6-c01a1fd265d0"
      },
      "execution_count": 118,
      "outputs": [
        {
          "output_type": "stream",
          "name": "stdout",
          "text": [
            "(Matrix([\n",
            "[1, 0, 0, 0],\n",
            "[0, 1, 0, 0],\n",
            "[0, 0, 1, 0],\n",
            "[0, 0, 0, 0]]), (0, 1, 2))\n"
          ]
        }
      ]
    },
    {
      "cell_type": "markdown",
      "source": [
        "**Since, the homogeneous system has only the trival solution, the system is linearly independent. Hence, we can state that B forms a basis for H.**"
      ],
      "metadata": {
        "id": "7TdX1O6b1Fdn"
      }
    },
    {
      "cell_type": "markdown",
      "source": [
        "Again, we know that x is in H if and only if the augmented system of [v<sub>1</sub> v<sub>2</sub> v<sub>3</sub> x] has a solution. In other words, x can be written as linear combination of v<sub>1</sub>, v<sub>2</sub>, and v<sub>3</sub>. "
      ],
      "metadata": {
        "id": "oGAJU5AL0G59"
      }
    },
    {
      "cell_type": "code",
      "source": [
        "# forming augmented matrix with x\n",
        "aug_x = smp.Matrix(np.hstack((v1, v2, v3, x)))\n",
        "print(aug_x)"
      ],
      "metadata": {
        "colab": {
          "base_uri": "https://localhost:8080/"
        },
        "id": "SrDzsh0v4G63",
        "outputId": "147c0786-a402-43ec-d05d-a81d5e7ffbc7"
      },
      "execution_count": 119,
      "outputs": [
        {
          "output_type": "stream",
          "name": "stdout",
          "text": [
            "Matrix([[-6, 8, -9, 4], [4, -3, 5, 7], [-9, 7, -8, -8], [4, -3, 3, 3]])\n"
          ]
        }
      ]
    },
    {
      "cell_type": "markdown",
      "source": [
        "Converting to reduced echolean form."
      ],
      "metadata": {
        "id": "PU8Za7D2138f"
      }
    },
    {
      "cell_type": "code",
      "source": [
        "aug_x_rref = aug_x.rref()\n",
        "print(aug_x_rref)"
      ],
      "metadata": {
        "colab": {
          "base_uri": "https://localhost:8080/"
        },
        "id": "7KUKQvCX1_Zq",
        "outputId": "3f4fa4fc-3aaf-45e1-e881-9b61164f7a3d"
      },
      "execution_count": 120,
      "outputs": [
        {
          "output_type": "stream",
          "name": "stdout",
          "text": [
            "(Matrix([\n",
            "[1, 0, 0, 3],\n",
            "[0, 1, 0, 5],\n",
            "[0, 0, 1, 2],\n",
            "[0, 0, 0, 0]]), (0, 1, 2))\n"
          ]
        }
      ]
    },
    {
      "cell_type": "markdown",
      "source": [
        "**Here, we can see that the augmented system [v<sub>1</sub> v<sub>2</sub> v<sub>3</sub> x] has a no rows of [0 0 0 k], where k is a non-zero number. Therefore, we can say that the system is consistent and hence, x is in H.**\n",
        "\n",
        "**Moreover, the B-coordinates of x is a 3×1 matrix, i.e $\\begin{bmatrix}3 \\\\ 5 \\\\ 2 \\end{bmatrix}$** "
      ],
      "metadata": {
        "id": "xAyeIaZ1AhR8"
      }
    }
  ]
}