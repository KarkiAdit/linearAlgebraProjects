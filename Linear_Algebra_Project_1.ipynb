{
  "nbformat": 4,
  "nbformat_minor": 0,
  "metadata": {
    "colab": {
      "provenance": []
    },
    "kernelspec": {
      "name": "python3",
      "display_name": "Python 3"
    },
    "language_info": {
      "name": "python"
    }
  },
  "cells": [
    {
      "cell_type": "markdown",
      "source": [
        "<h1>AUTHOR: ADITYA KARKI</h1>\n",
        "<h3>DATE: FEBRUARY 14, 2023</h3>"
      ],
      "metadata": {
        "id": "Y8xotlM_pqoE"
      }
    },
    {
      "cell_type": "code",
      "source": [
        "# importing required libraries\n",
        "import numpy as np\n",
        "import copy"
      ],
      "metadata": {
        "id": "Wuvhsgx8qikp"
      },
      "execution_count": null,
      "outputs": []
    },
    {
      "cell_type": "markdown",
      "source": [
        "**Question 1: Write the command(s) that will create a 6x4 matrix with random entries. In what range of numbers do the entries lie? Tell how to create a 3x3 matrix with random integer entries between -9 and 9.**"
      ],
      "metadata": {
        "id": "4y-3250fqM4S"
      }
    },
    {
      "cell_type": "code",
      "source": [
        "# using the numpy random module with rand function to create a 2D array with random entries\n",
        "sample_matrix1= np.random.rand(6, 4)\n",
        "print(sample_matrix1)"
      ],
      "metadata": {
        "colab": {
          "base_uri": "https://localhost:8080/"
        },
        "id": "oce3Hb_fq0NC",
        "outputId": "e4cc3c7d-b01d-470e-9da9-6ceabc897c9b"
      },
      "execution_count": null,
      "outputs": [
        {
          "output_type": "stream",
          "name": "stdout",
          "text": [
            "[[0.11826307 0.55219953 0.19395814 0.72141712]\n",
            " [0.22475655 0.46061944 0.58362202 0.05577061]\n",
            " [0.16069709 0.94196637 0.55102315 0.54843314]\n",
            " [0.24131846 0.82228692 0.66713845 0.68615781]\n",
            " [0.04931992 0.35526301 0.78415134 0.43196399]\n",
            " [0.42063065 0.98018387 0.38042888 0.25108644]]\n"
          ]
        }
      ]
    },
    {
      "cell_type": "markdown",
      "source": [
        "*From above we see that the elements inside the matrix are all real numbers in range 0 to 1 (1 exclusive). More specifically, the range is [0, 1) according to random.rand documentation.*"
      ],
      "metadata": {
        "id": "_lYJZTEass2x"
      }
    },
    {
      "cell_type": "code",
      "source": [
        "# using the numpy random module with randint function to create a 2D array with random integers\n",
        "sample_matrix2 = np.random.randint(-9, 9, size=(3,3)) # keeping the range of matrix from -9 to 9\n",
        "print(sample_matrix2)\n"
      ],
      "metadata": {
        "colab": {
          "base_uri": "https://localhost:8080/"
        },
        "id": "-ZnGrVuqtnew",
        "outputId": "23bbc981-2b68-4d48-f597-63518e331b14"
      },
      "execution_count": null,
      "outputs": [
        {
          "output_type": "stream",
          "name": "stdout",
          "text": [
            "[[ 5  2  2]\n",
            " [-4 -5 -6]\n",
            " [-3  8  1]]\n"
          ]
        }
      ]
    },
    {
      "cell_type": "markdown",
      "source": [
        "**Question 2: Use at least three pairs of random 4x4 matrices A and B to test the equalities (A+B)<sup>T</sup>= A<sup>T</sup>+B<sup>T</sup> and \n",
        "(AB)<sup>T</sup> = A<sup>T</sup>B<sup>T</sup>. Report your conclusions.** "
      ],
      "metadata": {
        "id": "8mNg1VpmuKWw"
      }
    },
    {
      "cell_type": "markdown",
      "source": [
        "A helper function for generating a random 4x4 matrix, with integers from in a defined range."
      ],
      "metadata": {
        "id": "PEh_jtKt0swy"
      }
    },
    {
      "cell_type": "code",
      "source": [
        "def formulate_random_matrix(a, b):\n",
        "  return np.random.randint(a, b, size=(4, 4))"
      ],
      "metadata": {
        "id": "2iA8QleJvtJb"
      },
      "execution_count": null,
      "outputs": []
    },
    {
      "cell_type": "markdown",
      "source": [
        "A helper function for checking if two given matrix satisfy: (A+B)<sup>T</sup>= A<sup>T</sup>+B<sup>T</sup>"
      ],
      "metadata": {
        "id": "_ogM6_Fd4eXl"
      }
    },
    {
      "cell_type": "code",
      "source": [
        "def sum_transpose_checker(A, B):\n",
        "  # finding sum of A and B\n",
        "  lhs = np.add(A, B).transpose()\n",
        "  print(\"LHS sum: \", lhs)\n",
        "  # finding sum of A^T and B^T\n",
        "  rhs = np.add(A.transpose(), B.transpose())\n",
        "  print(\"RHS sum: \", rhs)\n",
        "  # checking if (A+B)^T = A^T+B^T\n",
        "  return np.array_equal(lhs, rhs)"
      ],
      "metadata": {
        "id": "HoXhMGNb4uQG"
      },
      "execution_count": null,
      "outputs": []
    },
    {
      "cell_type": "markdown",
      "source": [
        "A helper function for checking if two given matrix satisfy: (AB)<sup>T</sup>= A<sup>T</sup> x B<sup>T</sup>"
      ],
      "metadata": {
        "id": "QuCF0Tef5DE3"
      }
    },
    {
      "cell_type": "code",
      "source": [
        "def product_transpose_checker(A, B):\n",
        "  # finding product of A and B\n",
        "  lhs = np.matmul(A, B).transpose()\n",
        "  print(\"LHS product: \", lhs)\n",
        "  # finding product of A transpose and B transpose\n",
        "  rhs = np.matmul(A.transpose(), B.transpose())\n",
        "  print(\"RHS product: \", rhs)\n",
        "  # checking if (AB)^T = A^T * B^T\n",
        "  return np.array_equal(lhs, rhs)"
      ],
      "metadata": {
        "id": "yQMtCM555Qk7"
      },
      "execution_count": null,
      "outputs": []
    },
    {
      "cell_type": "markdown",
      "source": [
        " Generate three random matrices in range (0, 10), (-100, 100), and (10, 35).Then, check if they satisfy given mathematical expressions. "
      ],
      "metadata": {
        "id": "7TdX1O6b1Fdn"
      }
    },
    {
      "cell_type": "code",
      "source": [
        "ranges = [(0, 10), (-100, 100), (10, 35)]\n",
        "for i in range(3):\n",
        "  # generating random matrices\n",
        "  A = formulate_random_matrix(ranges[i][0], ranges[i][1])\n",
        "  print(\"A = \", A)\n",
        "  B = formulate_random_matrix(ranges[i][0], ranges[i][1])\n",
        "  print(\"B = \", B)\n",
        "  # checking if (A+B)^T = A^T+B^T\n",
        "  if sum_transpose_checker(A, B):\n",
        "    print(\"Sum of transposes are equal on both sides for A and B. Example\", i + 1, \"passes\")\n",
        "  # checking if (AB)^T = A^T * B^T\n",
        "  if product_transpose_checker(A, B):\n",
        "    print(\"Product of transposes are equal on both sides for A_1 and B_1\", i + 1, \"passes\")\n",
        "  print()"
      ],
      "metadata": {
        "colab": {
          "base_uri": "https://localhost:8080/"
        },
        "id": "SrDzsh0v4G63",
        "outputId": "77e0c439-ab80-4c78-87d0-9035f0642685"
      },
      "execution_count": null,
      "outputs": [
        {
          "output_type": "stream",
          "name": "stdout",
          "text": [
            "A =  [[9 5 9 7]\n",
            " [6 5 9 1]\n",
            " [7 7 9 5]\n",
            " [1 8 0 9]]\n",
            "B =  [[2 1 5 5]\n",
            " [6 6 3 1]\n",
            " [6 4 8 7]\n",
            " [4 6 5 0]]\n",
            "LHS sum:  [[11 12 13  5]\n",
            " [ 6 11 11 14]\n",
            " [14 12 17  5]\n",
            " [12  2 12  9]]\n",
            "RHS sum:  [[11 12 13  5]\n",
            " [ 6 11 11 14]\n",
            " [14 12 17  5]\n",
            " [12  2 12  9]]\n",
            "Sum of transposes are equal on both sides for A and B. Example 1 passes\n",
            "LHS product:  [[130 100 130  86]\n",
            " [117  78 115 103]\n",
            " [167 122 153  74]\n",
            " [113  98 105  13]]\n",
            "RHS product:  [[ 64 112 141 107]\n",
            " [ 90  89 162  85]\n",
            " [ 72 135 162 135]\n",
            " [ 85  72 149  59]]\n",
            "\n",
            "A =  [[ 35  17  63  63]\n",
            " [ 14 -18 -56  51]\n",
            " [ 67  23   4 -87]\n",
            " [ 16  40  79 -59]]\n",
            "B =  [[ 25  46  48  -8]\n",
            " [-95  27 -42 -14]\n",
            " [ 87  96   3 -19]\n",
            " [ 95  47 -49 -95]]\n",
            "LHS sum:  [[  60  -81  154  111]\n",
            " [  63    9  119   87]\n",
            " [ 111  -98    7   30]\n",
            " [  55   37 -106 -154]]\n",
            "RHS sum:  [[  60  -81  154  111]\n",
            " [  63    9  119   87]\n",
            " [ 111  -98    7   30]\n",
            " [  55   37 -106 -154]]\n",
            "Sum of transposes are equal on both sides for A and B. Example 2 passes\n",
            "LHS product:  [[10726  2033 -8427 -2132]\n",
            " [11078 -2821    -2  6627]\n",
            " [-1932 -1239  6525  2216]\n",
            " [-7700 -3641  7331  3416]]\n",
            "RHS product:  [[ 4607 -5985  4286  -820]\n",
            " [  381 -3627  -940 -4158]\n",
            " [-1441 -8771 -1384 -4348]\n",
            " [  217  -128 11237 18250]]\n",
            "\n",
            "A =  [[21 31 17 14]\n",
            " [32 17 28 25]\n",
            " [26 26 27 34]\n",
            " [25 28 33 13]]\n",
            "B =  [[28 25 10 25]\n",
            " [22 27 18 17]\n",
            " [11 30 13 28]\n",
            " [15 17 20 23]]\n",
            "LHS sum:  [[49 54 37 40]\n",
            " [56 44 56 45]\n",
            " [27 46 40 53]\n",
            " [39 42 62 36]]\n",
            "RHS sum:  [[49 54 37 40]\n",
            " [56 44 56 45]\n",
            " [27 46 40 53]\n",
            " [39 42 62 36]]\n",
            "Sum of transposes are equal on both sides for A and B. Example 3 passes\n",
            "LHS product:  [[1667 1953 2107 1874]\n",
            " [2110 2524 2740 2592]\n",
            " [1269 1490 1759 1443]\n",
            " [1850 2448 2630 2324]]\n",
            "RHS product:  [[2273 2219 2229 1954]\n",
            " [2253 2085 1973 1918]\n",
            " [2271 2177 2302 2030]\n",
            " [1682 1816 1710 1614]]\n",
            "\n"
          ]
        }
      ]
    },
    {
      "cell_type": "markdown",
      "source": [
        "*Seeing the trends from taken examples, (A+B)<sup>T</sup>= A<sup>T</sup>+B<sup>T</sup> but (AB)<sup>T</sup>≠: A<sup>T</sup> x B<sup>T</sup>*"
      ],
      "metadata": {
        "id": "xAyeIaZ1AhR8"
      }
    },
    {
      "cell_type": "markdown",
      "source": [
        "**Question 3:**  Let 𝑆 = <table><tr><td>0<td>1<td>0<td>0<td>0<tr><td>0<td>0<td>1<td>0<td>0<tr><td>0<td>0<td>0<td>1<td>0<tr><td>0<td>0<td>0<td>0<td>1<tr><td>0<td>0<td>0<td>0<td>0</table>\n",
        "\n",
        "Compute S<sup>k</sup> for k = 2,...,6. \n",
        "\n",
        "**Report your observation.** "
      ],
      "metadata": {
        "id": "6ye-WVDOA9oj"
      }
    },
    {
      "cell_type": "code",
      "source": [
        "# Constructing the matrix\n",
        "S = np.matrix('0 1 0 0 0; 0 0 1 0 0; 0 0 0 1 0; 0 0 0 0 1; 0 0 0 0 0') \n",
        "print(S)"
      ],
      "metadata": {
        "colab": {
          "base_uri": "https://localhost:8080/"
        },
        "id": "aW-VNYWqDiMe",
        "outputId": "036622e0-3c2b-42d6-f3ed-4d9667b3b2cd"
      },
      "execution_count": null,
      "outputs": [
        {
          "output_type": "stream",
          "name": "stdout",
          "text": [
            "[[0 1 0 0 0]\n",
            " [0 0 1 0 0]\n",
            " [0 0 0 1 0]\n",
            " [0 0 0 0 1]\n",
            " [0 0 0 0 0]]\n"
          ]
        }
      ]
    },
    {
      "cell_type": "markdown",
      "source": [
        "A helper function to find product of two matrices."
      ],
      "metadata": {
        "id": "o_hbaKCiEC-2"
      }
    },
    {
      "cell_type": "code",
      "source": [
        "def find_kth_power(S, current_product_matrix):\n",
        "  return np.matmul(S, current_product_matrix)"
      ],
      "metadata": {
        "id": "Z5n8a9BxEQzh"
      },
      "execution_count": null,
      "outputs": []
    },
    {
      "cell_type": "markdown",
      "source": [
        "Computing S<sup>K</sup> for k  = 2 to 6."
      ],
      "metadata": {
        "id": "Cj8aixGuFWAG"
      }
    },
    {
      "cell_type": "code",
      "source": [
        "current_product_matrix = copy.deepcopy(S)\n",
        "for k in range(2, 7):\n",
        "  current_product_matrix = find_kth_power(S, current_product_matrix)\n",
        "  # print obtained output\n",
        "  print(\"When k = \", k , \", S power k is, \")\n",
        "  print(current_product_matrix)\n",
        "  print()"
      ],
      "metadata": {
        "colab": {
          "base_uri": "https://localhost:8080/"
        },
        "id": "SJkG7xklFhTt",
        "outputId": "6ff42e0d-e4c3-4788-eaf5-7b40b6e4949e"
      },
      "execution_count": null,
      "outputs": [
        {
          "output_type": "stream",
          "name": "stdout",
          "text": [
            "When k =  2 , S power k is, \n",
            "[[0 0 1 0 0]\n",
            " [0 0 0 1 0]\n",
            " [0 0 0 0 1]\n",
            " [0 0 0 0 0]\n",
            " [0 0 0 0 0]]\n",
            "\n",
            "When k =  3 , S power k is, \n",
            "[[0 0 0 1 0]\n",
            " [0 0 0 0 1]\n",
            " [0 0 0 0 0]\n",
            " [0 0 0 0 0]\n",
            " [0 0 0 0 0]]\n",
            "\n",
            "When k =  4 , S power k is, \n",
            "[[0 0 0 0 1]\n",
            " [0 0 0 0 0]\n",
            " [0 0 0 0 0]\n",
            " [0 0 0 0 0]\n",
            " [0 0 0 0 0]]\n",
            "\n",
            "When k =  5 , S power k is, \n",
            "[[0 0 0 0 0]\n",
            " [0 0 0 0 0]\n",
            " [0 0 0 0 0]\n",
            " [0 0 0 0 0]\n",
            " [0 0 0 0 0]]\n",
            "\n",
            "When k =  6 , S power k is, \n",
            "[[0 0 0 0 0]\n",
            " [0 0 0 0 0]\n",
            " [0 0 0 0 0]\n",
            " [0 0 0 0 0]\n",
            " [0 0 0 0 0]]\n",
            "\n"
          ]
        }
      ]
    },
    {
      "cell_type": "markdown",
      "source": [
        "*From the answers above we can see that the rows inside the given 5x5 matrix are shifted up. More specifically, they shift by one row in every unit increase of k value. It's probably because of the last row of S which is all 0's. In every unit increase of k, it adds another rows of 0s at top of the previous first 0th row.* "
      ],
      "metadata": {
        "id": "6yhnOqV5Qx53"
      }
    }
  ]
}